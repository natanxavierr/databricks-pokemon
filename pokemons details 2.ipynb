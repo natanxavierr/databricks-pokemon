{
 "cells": [
  {
   "cell_type": "code",
   "execution_count": 0,
   "metadata": {
    "application/vnd.databricks.v1+cell": {
     "cellMetadata": {},
     "inputWidgets": {},
     "nuid": "9eff6b98-fb6f-4da3-9d74-ec5c6553d9a0",
     "showTitle": false,
     "tableResultSettingsMap": {},
     "title": ""
    }
   },
   "outputs": [],
   "source": [
    "url = \"\"\n",
    "resp = requests.get(url)\n",
    "\n",
    "def save_pokemon(data):\n",
    "    now = datetime.datetime.now().strftime(\"%Y-%m-%d %H:%M:%S\")\n",
    "    data[\"date_ingestion\"] = datetime.now().strftime(\"%Y-%m-%d %H:%M:%S\")\n",
    "    filename = f\"{data['name']}_{now}.json\"\n",
    "    with open(filename, \"w\") as open_file:\n",
    "        json.dump(data, open_file)\n",
    "\n",
    "def get_and_save(url)\n",
    "    resp = requests.get(url)\n",
    "    if resp.status_code == 200:\n",
    "        data = resp.json()\n",
    "        save_pokemon(data)\n",
    "\n",
    "    else:\n",
    "        print(f\"Error: {url}\")\n",
    "\n",
    "\n",
    "get_and_save(url)\n",
    "\n",
    "\n",
    "\n",
    "    "
   ]
  },
  {
   "cell_type": "code",
   "execution_count": 0,
   "metadata": {
    "application/vnd.databricks.v1+cell": {
     "cellMetadata": {},
     "inputWidgets": {},
     "nuid": "e3285e2f-c406-4082-ac2d-13689005b81a",
     "showTitle": false,
     "tableResultSettingsMap": {},
     "title": ""
    }
   },
   "outputs": [],
   "source": [
    "criar caminho correto e passar no codigo tambem com mkdirs\n",
    "e passar url correta"
   ]
  }
 ],
 "metadata": {
  "application/vnd.databricks.v1+notebook": {
   "computePreferences": null,
   "dashboards": [],
   "environmentMetadata": {
    "base_environment": "",
    "environment_version": "2"
   },
   "language": "python",
   "notebookMetadata": {
    "pythonIndentUnit": 4
   },
   "notebookName": "pokemons details 2",
   "widgets": {}
  },
  "language_info": {
   "name": "python"
  }
 },
 "nbformat": 4,
 "nbformat_minor": 0
}
