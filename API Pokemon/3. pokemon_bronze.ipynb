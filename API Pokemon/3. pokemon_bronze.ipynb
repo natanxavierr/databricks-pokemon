{
 "cells": [
  {
   "cell_type": "code",
   "execution_count": 0,
   "metadata": {
    "application/vnd.databricks.v1+cell": {
     "cellMetadata": {
      "byteLimit": 2048000,
      "rowLimit": 10000
     },
     "inputWidgets": {},
     "nuid": "f5e6dd2c-23be-4974-9820-63b46e3a6611",
     "showTitle": true,
     "tableResultSettingsMap": {},
     "title": "Salvando Tabela Bronze"
    }
   },
   "outputs": [],
   "source": [
    "# Obtém o nome da tabela a partir do widget do Databricks\n",
    "table = dbutils.widgets.get(\"table\")  \n",
    "\n",
    "# Lê os arquivos JSON do caminho especificado dentro do volume Databricks\n",
    "df = spark.read.json(f\"/Volumes/databricks-pokemon/pokemon/pokemon_raw/{table}/\")\n",
    "\n",
    "# Processa os dados e salva no formato Delta\n",
    "(df\n",
    " .distinct()  # Remove duplicatas do DataFrame\n",
    " .coalesce(1)  # Reduz o número de arquivos de saída para otimizar gravação\n",
    " .write\n",
    " .format(\"delta\")  # Define o formato Delta Lake para armazenamento\n",
    " .mode(\"overwrite\")  # Sobrescreve os dados caso a tabela já exista\n",
    " .saveAsTable(f\"databricks-pokemon.pokemon.{table}\")  # Salva como uma tabela Delta no catálogo\n",
    ")\n",
    "\n",
    "# ⚠️ IMPORTANTE: Este código faz parte de um job automatizado.\n",
    "# Ele não deve ser executado manualmente no notebook, pois depende de parâmetros externos.\n"
   ]
  },
  {
   "cell_type": "code",
   "execution_count": 0,
   "metadata": {
    "application/vnd.databricks.v1+cell": {
     "cellMetadata": {},
     "inputWidgets": {},
     "nuid": "d50ab0d1-e0c0-4332-90b5-99062acb914a",
     "showTitle": false,
     "tableResultSettingsMap": {},
     "title": ""
    }
   },
   "outputs": [],
   "source": []
  }
 ],
 "metadata": {
  "application/vnd.databricks.v1+notebook": {
   "computePreferences": null,
   "dashboards": [],
   "environmentMetadata": {
    "base_environment": "",
    "environment_version": "2"
   },
   "language": "python",
   "notebookMetadata": {
    "mostRecentlyExecutedCommandWithImplicitDF": {
     "commandId": 3028910115309055,
     "dataframes": [
      "_sqldf"
     ]
    },
    "pythonIndentUnit": 4
   },
   "notebookName": "3. pokemon_bronze",
   "widgets": {
    "table": {
     "currentValue": "default_table_name",
     "nuid": "0b86168a-cfb4-46a1-bef3-05485dd97106",
     "typedWidgetInfo": {
      "autoCreated": false,
      "defaultValue": "default_table_name",
      "label": "Table Name",
      "name": "table",
      "options": {
       "widgetDisplayType": "Text",
       "validationRegex": null
      },
      "parameterDataType": "String"
     },
     "widgetInfo": {
      "widgetType": "text",
      "defaultValue": "default_table_name",
      "label": "Table Name",
      "name": "table",
      "options": {
       "widgetType": "text",
       "autoCreated": false,
       "validationRegex": null
      }
     }
    }
   }
  },
  "language_info": {
   "name": "python"
  }
 },
 "nbformat": 4,
 "nbformat_minor": 0
}
