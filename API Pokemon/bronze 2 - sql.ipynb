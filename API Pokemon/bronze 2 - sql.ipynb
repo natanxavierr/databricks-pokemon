{
 "cells": [
  {
   "cell_type": "code",
   "execution_count": 0,
   "metadata": {
    "application/vnd.databricks.v1+cell": {
     "cellMetadata": {
      "byteLimit": 2048000,
      "rowLimit": 10000
     },
     "inputWidgets": {},
     "nuid": "621daeef-8ed6-4279-8255-c79e55374162",
     "showTitle": false,
     "tableResultSettingsMap": {},
     "title": ""
    }
   },
   "outputs": [],
   "source": [
    "(spark.read.json(\"dbfs/mnt/pokemon/pokemon\").createOrReplaceTempView(\"pokemon\"))"
   ]
  },
  {
   "cell_type": "code",
   "execution_count": 0,
   "metadata": {
    "application/vnd.databricks.v1+cell": {
     "cellMetadata": {},
     "inputWidgets": {},
     "nuid": "02b4e94c-5653-491c-9395-121241d6746f",
     "showTitle": false,
     "tableResultSettingsMap": {},
     "title": ""
    }
   },
   "outputs": [],
   "source": [
    "\n",
    "query = \"\"\"\"\n",
    "SELECT ingestion_date,   -- Seleciona a data de ingestão dos dados\n",
    "       poke.*            -- Seleciona todas as colunas da estrutura JSON explodida\n",
    "FROM pokemon\n",
    "LATERAL VIEW EXPLODE(results) AS poke  -- Expande a coluna 'results', que contém uma lista de Pokémon, transformando cada item em uma nova linha\n",
    "QUALIFY ROW_NUMBER() OVER (PARTITION BY poke.name ORDER BY ingestion_date DESC) = 1;  \"\"\"\"\n",
    "## Mantém apenas a entrada mais recente para cada Pokémon, garantindo que não haja duplicatas baseadas no nome do Pokémon\n",
    "\n",
    "##QUALIFY filtra os resultados para manter apenas a entrada mais recente de cada Pokémon.\n",
    "\n",
    "df.spark.sql(query)coalesce(1).write.mode(\"overwrite\").saveAsTable(\"pokemon_exploded\")"
   ]
  }
 ],
 "metadata": {
  "application/vnd.databricks.v1+notebook": {
   "computePreferences": null,
   "dashboards": [],
   "environmentMetadata": {
    "base_environment": "",
    "environment_version": "2"
   },
   "language": "python",
   "notebookMetadata": {
    "pythonIndentUnit": 4
   },
   "notebookName": "bronze 2 - sql",
   "widgets": {}
  },
  "language_info": {
   "name": "python"
  }
 },
 "nbformat": 4,
 "nbformat_minor": 0
}
