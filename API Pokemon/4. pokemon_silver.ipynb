{
 "cells": [
  {
   "cell_type": "markdown",
   "metadata": {
    "application/vnd.databricks.v1+cell": {
     "cellMetadata": {},
     "inputWidgets": {},
     "nuid": "99135d34-3515-4cb7-8c7e-bc53a400e2af",
     "showTitle": false,
     "tableResultSettingsMap": {},
     "title": ""
    }
   },
   "source": [
    "# Convertendo esse Output em Tabelas SQL"
   ]
  },
  {
   "cell_type": "code",
   "execution_count": 0,
   "metadata": {
    "application/vnd.databricks.v1+cell": {
     "cellMetadata": {
      "byteLimit": 2048000,
      "rowLimit": 10000
     },
     "inputWidgets": {},
     "nuid": "daf5bdb1-58b6-43cb-80f1-ba487998adab",
     "showTitle": true,
     "tableResultSettingsMap": {},
     "title": "LENDO CAMINHO DETAILS"
    }
   },
   "outputs": [],
   "source": [
    "df = spark.read.json(\"/Volumes/databricks-pokemon/pokemon/pokemon_raw/pokemons_details/\")\n",
    "\n",
    "display(df)"
   ]
  },
  {
   "cell_type": "code",
   "execution_count": 0,
   "metadata": {
    "application/vnd.databricks.v1+cell": {
     "cellMetadata": {
      "byteLimit": 2048000,
      "rowLimit": 10000
     },
     "inputWidgets": {},
     "nuid": "ea9e432b-6908-4450-afcf-a58fcaebec36",
     "showTitle": true,
     "tableResultSettingsMap": {},
     "title": "EXPLODINDO  DADOS PARA FICAR EM TABELA (COLUNAS)"
    }
   },
   "outputs": [],
   "source": [
    "\n",
    "from pyspark.sql.functions import explode, col\n",
    "\n",
    "# Criar df_exploded baseado em abilities\n",
    "\n",
    "if df is not None:\n",
    "    df_exploded = df  # Se não existir, manter o DataFrame original\n",
    "\n",
    "# Explodir abilities, se existir\n",
    "if \"abilities\" in df.columns:\n",
    "    df_exploded = df_exploded.withColumn(\"ability\", explode(col(\"abilities\")))\n",
    "\n",
    "# Explodir game_indices, se existir\n",
    "if \"game_indices\" in df.columns:\n",
    "    df_exploded = df_exploded.withColumn(\"game_index\", explode(col(\"game_indices\")))\n",
    "\n",
    "# Explodir held_items, se existir\n",
    "if \"held_items\" in df.columns:\n",
    "    df_exploded = df_exploded.withColumn(\"held_item\", explode(col(\"held_items\")))\n",
    "\n",
    "# Explodir stats, se existir\n",
    "if \"stats\" in df.columns:\n",
    "    df_exploded = df_exploded.withColumn(\"stats\", explode(col(\"stats\")))\n",
    "\n",
    "# Explodir types, se existir\n",
    "if \"types\" in df.columns:\n",
    "    df_exploded = df_exploded.withColumn(\"types\", explode(col(\"types\")))\n",
    "\n",
    "# Selecionar colunas formatadas corretamente\n",
    "df_final = df_exploded.select(\n",
    "    \"id\",\n",
    "    \"name\",\n",
    "    \"order\",\n",
    "    \"weight\",\n",
    "    \"base_experience\",\n",
    "    col(\"game_index.version.name\").alias(\"game_version\"),  # Nome da versão do jogo\n",
    "    col(\"game_index.game_index\").alias(\"game_index_number\"),  # Índice do jogo\n",
    "    col(\"held_item.item.name\").alias(\"held_items_name\"),  # Nome do item\n",
    "    col(\"ability.ability.name\").alias(\"ability_name\"),  # Nome da habilidade\n",
    "    col(\"ability.is_hidden\").alias(\"is_hidden\"),  # Se é uma habilidade oculta\n",
    "    col(\"ability.slot\").alias(\"slot\"),  # Slot da habilidade\n",
    "    col(\"stats.effort\").alias(\"effort\"),\n",
    "    col(\"stats.stat.name\").alias(\"stat_name\"),\n",
    "    col(\"types.type.name\").alias(\"type_name\")\n",
    "\n",
    ")\n",
    "\n",
    "# Exibir resultado\n",
    "display(df_final)\n"
   ]
  },
  {
   "cell_type": "code",
   "execution_count": 0,
   "metadata": {
    "application/vnd.databricks.v1+cell": {
     "cellMetadata": {},
     "inputWidgets": {},
     "nuid": "69d6f3bf-e15b-4be4-afb8-b39607fd7ef9",
     "showTitle": true,
     "tableResultSettingsMap": {},
     "title": "SALVANDO EM TABELA RELACIONAL SQL"
    }
   },
   "outputs": [],
   "source": [
    "df_final.write.mode(\"overwrite\").saveAsTable(\"`databricks-pokemon`.pokemon.pokemon_silver\")"
   ]
  }
 ],
 "metadata": {
  "application/vnd.databricks.v1+notebook": {
   "computePreferences": null,
   "dashboards": [],
   "environmentMetadata": {
    "base_environment": "",
    "environment_version": "2"
   },
   "language": "python",
   "notebookMetadata": {
    "pythonIndentUnit": 4
   },
   "notebookName": "4. pokemon_silver",
   "widgets": {}
  },
  "language_info": {
   "name": "python"
  }
 },
 "nbformat": 4,
 "nbformat_minor": 0
}
