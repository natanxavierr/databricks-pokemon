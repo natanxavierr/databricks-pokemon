{
 "cells": [
  {
   "cell_type": "code",
   "execution_count": 0,
   "metadata": {
    "application/vnd.databricks.v1+cell": {
     "cellMetadata": {
      "byteLimit": 2048000,
      "rowLimit": 10000
     },
     "inputWidgets": {},
     "nuid": "0b409723-5a95-42ab-a308-8743b6a1de83",
     "showTitle": false,
     "tableResultSettingsMap": {},
     "title": ""
    }
   },
   "outputs": [],
   "source": [
    "%python\n",
    "import requests\n",
    "import datetime\n",
    "import json\n",
    "import os\n",
    "\n",
    "class Collector:\n",
    "\n",
    "    def __init__(self, url):\n",
    "        self.url = url  # Define a URL base da API\n",
    "        self.instance = url.strip(\"/\").split(\"/\")[-1]  # Extrai o último segmento da URL para nomear a instância\n",
    "\n",
    "    def get_endpoint(self, **kwargs):\n",
    "        \"\"\"Realiza uma requisição GET para a API com os parâmetros fornecidos\"\"\"\n",
    "        resp = requests.get(self.url, params=kwargs)\n",
    "        return resp  # Retorna a resposta da requisição\n",
    "    \n",
    "    def save_data(self, data):\n",
    "        \"\"\"Salva os dados obtidos da API em um arquivo JSON no DBFS\"\"\"\n",
    "        now = datetime.datetime.now().strftime(\"%Y-%m-%d %H:%M:%S\")  # Cria um timestamp para nomear os arquivos\n",
    "        data['ingestion_date'] = datetime.datetime.now().strftime(\"%Y-%m-%d %H:%M:%S\")  # Adiciona a data de ingestão nos dados\n",
    "        \n",
    "        directory = \"dbfs/mnt/pokemon/pokemon/\"  # Define o diretório de salvamento\n",
    "        filename = f\"{directory}/{now}.json\"  # Define o caminho completo do arquivo\n",
    "        \n",
    "        # Cria o diretório caso não exista\n",
    "        os.makedirs(directory, exist_ok=True)\n",
    "        \n",
    "        # Salva os dados no arquivo JSON\n",
    "        with open(filename, 'w') as open_file:\n",
    "            json.dump(data, open_file)\n",
    "\n",
    "    def get_and_save(self, **kwargs):\n",
    "        \"\"\"Obtém os dados da API e os salva localmente\"\"\"\n",
    "        resp = self.get_endpoint(**kwargs)  # Faz a requisição para a API\n",
    "        if resp.status_code == 200:  # Verifica se a requisição foi bem-sucedida\n",
    "            data = resp.json()  # Converte a resposta para JSON\n",
    "            self.save_data(data)  # Salva os dados no arquivo JSON\n",
    "            return data  # Retorna os dados obtidos\n",
    "        else:\n",
    "            return {}  # Retorna um dicionário vazio em caso de erro\n",
    "    \n",
    "    def auto_exec(self, limit=100):\n",
    "        \"\"\"Executa a coleta automática de dados de forma paginada\"\"\"\n",
    "        offset = 0  # Define o deslocamento inicial para a paginação\n",
    "\n",
    "        while True:\n",
    "            data = self.get_and_save(limit=limit, offset=offset)  # Obtém e salva os dados da API\n",
    "\n",
    "            if data[\"next\"] is None:  # Verifica se há uma próxima página\n",
    "                break  # Se não houver, encerra a coleta\n",
    "                \n",
    "            offset += limit  # Atualiza o deslocamento para a próxima página\n",
    "\n",
    "# Define a URL da API para coletar os dados dos Pokémon\n",
    "url = \"https://pokeapi.co/api/v2/pokemon/\"\n",
    "\n",
    "# Cria uma instância do coletor para a API do Pokémon\n",
    "collector = Collector(url)\n",
    "\n",
    "# Executa a coleta de dados uma única vez e salva os resultados\n",
    "data = collector.get_and_save()  # Obtém os dados e os salva\n",
    "\n",
    "collector.save_data(data)  # Salva os dados obtidos"
   ]
  },
  {
   "cell_type": "code",
   "execution_count": 0,
   "metadata": {
    "application/vnd.databricks.v1+cell": {
     "cellMetadata": {
      "byteLimit": 2048000,
      "rowLimit": 10000
     },
     "inputWidgets": {},
     "nuid": "ecf8d98e-d27e-4b95-aa8c-9cb14f299f1b",
     "showTitle": false,
     "tableResultSettingsMap": {},
     "title": ""
    }
   },
   "outputs": [],
   "source": [
    "dbutils.fs.mkdirs(\"dbfs/mnt/pokemon/pokemon/\")"
   ]
  },
  {
   "cell_type": "code",
   "execution_count": 0,
   "metadata": {
    "application/vnd.databricks.v1+cell": {
     "cellMetadata": {
      "byteLimit": 2048000,
      "rowLimit": 10000
     },
     "inputWidgets": {},
     "nuid": "03b11bdc-66f8-415f-93d9-00516f92e83d",
     "showTitle": false,
     "tableResultSettingsMap": {},
     "title": ""
    }
   },
   "outputs": [],
   "source": [
    "dbutils.fs.ls(\"dbfs/mnt/pokemon/pokemon\")"
   ]
  }
 ],
 "metadata": {
  "application/vnd.databricks.v1+notebook": {
   "computePreferences": null,
   "dashboards": [],
   "environmentMetadata": {
    "base_environment": "",
    "environment_version": "2"
   },
   "language": "python",
   "notebookMetadata": {
    "pythonIndentUnit": 4
   },
   "notebookName": "outra forma pokemon - api",
   "widgets": {}
  },
  "language_info": {
   "name": "python"
  }
 },
 "nbformat": 4,
 "nbformat_minor": 0
}
