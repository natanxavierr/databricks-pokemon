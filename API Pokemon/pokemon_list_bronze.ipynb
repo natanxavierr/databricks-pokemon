{
 "cells": [
  {
   "cell_type": "code",
   "execution_count": 0,
   "metadata": {
    "application/vnd.databricks.v1+cell": {
     "cellMetadata": {
      "byteLimit": 2048000,
      "rowLimit": 10000
     },
     "inputWidgets": {},
     "nuid": "f5e6dd2c-23be-4974-9820-63b46e3a6611",
     "showTitle": true,
     "tableResultSettingsMap": {},
     "title": "Salvando tabela bronze"
    }
   },
   "outputs": [],
   "source": [
    "## SALVANDO ARQUIVO EM UMA TABELA BRONZE\n",
    "\n",
    "df = spark.read.json(\"/Volumes/databricks-pokemon/pokemon/pokemon_raw/pokemons_list/\")\n",
    "\n",
    "(df\n",
    ".distinct()\n",
    ".coalesce(1)\n",
    ".write\n",
    ".format(\"delta\")\n",
    ".mode(\"overwrite\")\n",
    ".saveAsTable(\"`databricks-pokemon`.pokemon.pokemon_bronze\")\n",
    ")"
   ]
  }
 ],
 "metadata": {
  "application/vnd.databricks.v1+notebook": {
   "computePreferences": null,
   "dashboards": [],
   "environmentMetadata": {
    "base_environment": "",
    "environment_version": "2"
   },
   "language": "python",
   "notebookMetadata": {
    "mostRecentlyExecutedCommandWithImplicitDF": {
     "commandId": 3028910115309055,
     "dataframes": [
      "_sqldf"
     ]
    },
    "pythonIndentUnit": 4
   },
   "notebookName": "pokemon_list_bronze",
   "widgets": {}
  },
  "language_info": {
   "name": "python"
  }
 },
 "nbformat": 4,
 "nbformat_minor": 0
}
