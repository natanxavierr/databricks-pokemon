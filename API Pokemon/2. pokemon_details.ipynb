{
 "cells": [
  {
   "cell_type": "code",
   "execution_count": 0,
   "metadata": {
    "application/vnd.databricks.v1+cell": {
     "cellMetadata": {
      "byteLimit": 2048000,
      "rowLimit": 10000
     },
     "inputWidgets": {},
     "nuid": "656ee467-8229-4c50-86ff-7b1d8bcda2ce",
     "showTitle": true,
     "tableResultSettingsMap": {},
     "title": "CRIANDO DIRETÓRIO PARA EXECUTAR A CÉLULA ABAIXO"
    }
   },
   "outputs": [],
   "source": [
    "dbutils.fs.mkdirs(\"/Volumes/databricks-pokemon/pokemon/pokemon_raw/pokemons_details/\")"
   ]
  },
  {
   "cell_type": "code",
   "execution_count": 0,
   "metadata": {
    "application/vnd.databricks.v1+cell": {
     "cellMetadata": {
      "byteLimit": 2048000,
      "rowLimit": 10000
     },
     "inputWidgets": {},
     "nuid": "00912c79-db0f-44a7-a550-c3603a46c952",
     "showTitle": true,
     "tableResultSettingsMap": {},
     "title": "RETORNANDO DETALHES POKEMONS"
    }
   },
   "outputs": [],
   "source": [
    "%python\n",
    "# Install the tqdm module\n",
    "%pip install tqdm\n",
    "\n",
    "import datetime  # Importa o módulo datetime para manipulação de datas e horários\n",
    "import requests  # Importa a biblioteca requests para fazer requisições HTTP\n",
    "import json  # Importa o módulo json para manipulação de dados JSON\n",
    "from tqdm import tqdm  # Importa a biblioteca tqdm para exibir barras de progresso\n",
    "from multiprocessing import Pool  # Importa Pool da biblioteca multiprocessing para processamento paralelo\n",
    "\n",
    "# Função que faz requisição a um URL, obtém os dados e salva em um arquivo JSON\n",
    "def get_and_save(url):\n",
    "    data = requests.get(url).json()  # Faz a requisição GET para o URL e obtém os dados em formato JSON\n",
    "    now = datetime.datetime.now().strftime(\"%Y-%m-%d %H:%M:%S\")  # Obtém a data e hora atuais formatadas\n",
    "    \n",
    "    # Define o caminho do arquivo onde os dados serão salvos (possível erro devido ao caractere ':' em nomes de arquivos)\n",
    "    filename = f\"/Volumes/databricks-pokemon/pokemon/pokemon_raw/pokemons_details/{data['id']}.{now}.json\"\n",
    "    \n",
    "    # Abre o arquivo no modo escrita e salva os dados JSON\n",
    "    with open(filename, \"w\") as open_file:\n",
    "        json.dump(data, open_file)\n",
    "\n",
    "# Obtém a tabela do Databricks como um DataFrame Spark\n",
    "df = spark.table(\"`databricks-pokemon`.pokemon.pokemon_bronze\")\n",
    "\n",
    "# Seleciona a coluna \"url\", converte para um DataFrame Pandas e extrai os valores como uma lista\n",
    "urls = df.select('url').toPandas()['url'].tolist()\n",
    "\n",
    "# Cria um pool de 4 processos para execução paralela das requisições\n",
    "with Pool(4) as p:\n",
    "    print(p.map(get_and_save, urls))  # Mapeia a função \"get_and_save\" para cada URL na lista usando multiprocessing"
   ]
  },
  {
   "cell_type": "code",
   "execution_count": 0,
   "metadata": {
    "application/vnd.databricks.v1+cell": {
     "cellMetadata": {
      "byteLimit": 2048000,
      "rowLimit": 10000
     },
     "inputWidgets": {},
     "nuid": "005af537-5b62-4986-bfbe-3234a9644ea7",
     "showTitle": true,
     "tableResultSettingsMap": {},
     "title": "LENDO CAMINHO SEM RETORNAR NONE"
    }
   },
   "outputs": [],
   "source": [
    "df = spark.read.json(\"/Volumes/databricks-pokemon/pokemon/pokemon_raw/pokemons_details/\")\n",
    "\n",
    "display(df)\n",
    "                     "
   ]
  },
  {
   "cell_type": "markdown",
   "metadata": {
    "application/vnd.databricks.v1+cell": {
     "cellMetadata": {},
     "inputWidgets": {},
     "nuid": "70d4a217-c817-4960-92b3-47065340de4f",
     "showTitle": false,
     "tableResultSettingsMap": {},
     "title": ""
    }
   },
   "source": []
  }
 ],
 "metadata": {
  "application/vnd.databricks.v1+notebook": {
   "computePreferences": null,
   "dashboards": [],
   "environmentMetadata": {
    "base_environment": "",
    "environment_version": "2"
   },
   "language": "python",
   "notebookMetadata": {
    "mostRecentlyExecutedCommandWithImplicitDF": {
     "commandId": 3694833033070873,
     "dataframes": [
      "_sqldf"
     ]
    },
    "pythonIndentUnit": 4
   },
   "notebookName": "2. pokemon_details",
   "widgets": {}
  },
  "language_info": {
   "name": "python"
  }
 },
 "nbformat": 4,
 "nbformat_minor": 0
}
