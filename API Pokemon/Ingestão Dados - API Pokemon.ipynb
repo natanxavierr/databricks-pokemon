{
 "cells": [
  {
   "cell_type": "code",
   "execution_count": 0,
   "metadata": {
    "application/vnd.databricks.v1+cell": {
     "cellMetadata": {
      "byteLimit": 2048000,
      "rowLimit": 10000
     },
     "inputWidgets": {},
     "nuid": "2aa2808e-6ae0-4e26-b389-1b3a95934fb9",
     "showTitle": true,
     "tableResultSettingsMap": {},
     "title": "Requests API"
    }
   },
   "outputs": [],
   "source": [
    "%python\n",
    "## IMPORTANDO FUNÇÃO REQUESTS PYTHON\n",
    "import requests\n",
    "import datetime\n",
    "import json\n",
    "\n",
    "## PASSANDO URL FORNECIDA DA API\n",
    "## LIMITADO A 20 url = \"https://pokeapi.co/api/v2/pokemon\"\n",
    "url = \"https://pokeapi.co/api/v2/pokemon?limit=1500\"\n",
    "\n",
    "## REQUEST PARA RETORNAR OS DADOS \n",
    "resp = requests.get(url)\n",
    "\n",
    "## .JSON() PARA RETORNAR TIPO UM SHOW OU DISPLAY, VISUALIZAR ARQUIVOS LINKS ETC\n",
    "data = resp.json()\n",
    "\n",
    "## PERCEBESSE QUE SE LIMITOU EM 20 E TEM O NEXT COM MAIS 20 E ASSIM SUCESSIVAMENTE. PORÉM SE USAR ?LIMIT1000 APÓS URL\n",
    "\n",
    "## SALVANDO RESULTADOS\n",
    "data_save = data['results']\n",
    "\n",
    "now = datetime.datetime.now().strftime(\"%Y-%m-%d %H:%M:%S\")\n",
    "path = f\"/Volumes/databricks-pokemon/pokemon/pokemon_raw/pokemons_list/{now}.json\"\n",
    "\n",
    "with open(path, 'w') as open_file:\n",
    "    json.dump(data_save, open_file)"
   ]
  },
  {
   "cell_type": "markdown",
   "metadata": {
    "application/vnd.databricks.v1+cell": {
     "cellMetadata": {
      "byteLimit": 2048000,
      "rowLimit": 10000
     },
     "inputWidgets": {},
     "nuid": "7cba8db4-404b-48df-80ee-747e6c330ce5",
     "showTitle": true,
     "tableResultSettingsMap": {},
     "title": "VERIFICANDO VOLUME CRIADO MANUALMENTE"
    }
   },
   "source": [
    "APÓS ISSO TER OPCIONAL CRIAR UM DATABASE E CRIAR UM VOLUME DENTRO DELE\n"
   ]
  },
  {
   "cell_type": "code",
   "execution_count": 0,
   "metadata": {
    "application/vnd.databricks.v1+cell": {
     "cellMetadata": {
      "byteLimit": 2048000,
      "rowLimit": 10000
     },
     "inputWidgets": {},
     "nuid": "f0001cd4-5787-41f3-ab7f-17a814f3daca",
     "showTitle": true,
     "tableResultSettingsMap": {},
     "title": "CRIANDO DIRETÓRIO PARA O REQUEST DA API"
    }
   },
   "outputs": [],
   "source": [
    "## CRIANDO DIRETÓRIO PARA O REQUEST DA API FUNCIONAR NO CAMPO PATH\n",
    "\n",
    "dbutils.fs.mkdirs(\"/Volumes/databricks-pokemon/pokemon/pokemon_raw/pokemons_list/\")"
   ]
  },
  {
   "cell_type": "markdown",
   "metadata": {
    "application/vnd.databricks.v1+cell": {
     "cellMetadata": {},
     "inputWidgets": {},
     "nuid": "67332dd7-82d1-42d1-95f7-a2b94822997d",
     "showTitle": true,
     "tableResultSettingsMap": {},
     "title": "CRIAR UM WORKFLOWS PARA RODAR DIARIAMENTE ETC"
    }
   },
   "source": [
    "CRIAR UM WORKFLOWS PARA RODAR DIARIAMENTE ETC\n",
    "\n",
    "DIFERENÇA PUXANDO DO GIT PROVIDER NO SOURCE"
   ]
  },
  {
   "cell_type": "code",
   "execution_count": 0,
   "metadata": {
    "application/vnd.databricks.v1+cell": {
     "cellMetadata": {},
     "inputWidgets": {},
     "nuid": "ec77258b-deb7-4036-8ed0-889576799cf4",
     "showTitle": false,
     "tableResultSettingsMap": {},
     "title": ""
    }
   },
   "outputs": [],
   "source": []
  },
  {
   "cell_type": "code",
   "execution_count": 0,
   "metadata": {
    "application/vnd.databricks.v1+cell": {
     "cellMetadata": {},
     "inputWidgets": {},
     "nuid": "76fdeb73-9230-43b4-8300-35383fa6f205",
     "showTitle": true,
     "tableResultSettingsMap": {},
     "title": "CÓDIGO COMENTADO MELHOR ENTENDIMENTO"
    }
   },
   "outputs": [],
   "source": [
    "## IMPORTANDO AS BIBLIOTECAS NECESSÁRIAS\n",
    "import requests  # Para fazer requisições HTTP\n",
    "import datetime  # Para obter a data e hora atual\n",
    "import json      # Para manipular arquivos JSON\n",
    "import os        # Para manipular caminhos de arquivos de forma segura\n",
    "\n",
    "## DEFININDO A URL DA API (PEGANDO TODOS OS POKÉMON ATÉ O LIMITE DE 1500)\n",
    "url = \"https://pokeapi.co/api/v2/pokemon?limit=1500\"\n",
    "\n",
    "## FAZENDO A REQUISIÇÃO HTTP PARA A API\n",
    "resp = requests.get(url)\n",
    "\n",
    "## VERIFICANDO SE A REQUISIÇÃO FOI BEM-SUCEDIDA (CÓDIGO 200 = OK)\n",
    "if resp.status_code == 200:\n",
    "    ## CONVERTENDO A RESPOSTA PARA FORMATO JSON\n",
    "    data = resp.json()\n",
    "    \n",
    "    ## EXTRAINDO APENAS A LISTA DE POKÉMON\n",
    "    data_save = data['results']\n",
    "\n",
    "    ## OBTENDO A DATA E HORA ATUAL NO FORMATO CORRETO PARA NOME DE ARQUIVO\n",
    "    now = datetime.datetime.now().strftime(\"%Y-%m-%d_%H-%M-%S\")\n",
    "\n",
    "    ## DEFININDO O CAMINHO PARA SALVAR O ARQUIVO JSON DE FORMA SEGURA\n",
    "    save_dir = \"/Volumes/databricks-pokemon/pokemon/pokemon_raw/pokemons_list\"\n",
    "    path = os.path.join(save_dir, f\"{now}.json\")\n",
    "\n",
    "    ## GARANTINDO QUE O DIRETÓRIO DE DESTINO EXISTE\n",
    "    os.makedirs(save_dir, exist_ok=True)\n",
    "\n",
    "    ## ABRINDO O ARQUIVO E SALVANDO OS DADOS EM FORMATO JSON\n",
    "    with open(path, 'w') as open_file:\n",
    "        json.dump(data_save, open_file, indent=4)  # \"indent=4\" para melhorar a legibilidade do arquivo JSON\n",
    "\n",
    "    print(f\"Arquivo salvo com sucesso em: {path}\")\n",
    "else:\n",
    "    ## EXIBINDO UM ERRO CASO A REQUISIÇÃO FALHE\n",
    "    print(f\"Erro ao acessar a API: Código {resp.status_code}\")\n"
   ]
  }
 ],
 "metadata": {
  "application/vnd.databricks.v1+notebook": {
   "computePreferences": null,
   "dashboards": [],
   "environmentMetadata": {
    "base_environment": "",
    "environment_version": "2"
   },
   "language": "python",
   "notebookMetadata": {
    "pythonIndentUnit": 4
   },
   "notebookName": "Ingestão Dados - API Pokemon",
   "widgets": {}
  },
  "language_info": {
   "name": "python"
  }
 },
 "nbformat": 4,
 "nbformat_minor": 0
}
